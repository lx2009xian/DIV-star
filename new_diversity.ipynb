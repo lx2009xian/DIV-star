{
 "cells": [
  {
   "cell_type": "code",
   "execution_count": 1,
   "metadata": {},
   "outputs": [],
   "source": [
    "import numpy as np\n",
    "import pandas as pd"
   ]
  },
  {
   "cell_type": "code",
   "execution_count": 2,
   "metadata": {},
   "outputs": [],
   "source": [
    "# Calculate the variety\n",
    "data=pd.read_csv(\"C:/Users/Lenovo/Desktop/Demo/result.csv\",header=0,index_col=0)\n",
    "data[data>1]=1 #In order to change the cell>1 to =1\n",
    "a=data[data>0].count()#count the number of item of given papers\n",
    "a=a.to_frame()"
   ]
  },
  {
   "cell_type": "code",
   "execution_count": 3,
   "metadata": {},
   "outputs": [],
   "source": [
    "#Create an empty dataframe to store the cumulative sum of dij of each paper\n",
    "cumulative_sum_f=pd.DataFrame(np.zeros((data.shape[1],1)),index=data.columns.values.tolist())\n",
    "#Create an empty dataframe to store the new diversity of each paper\n",
    "new_diversity=pd.DataFrame(np.zeros((data.shape[1],1)),index=data.columns.values.tolist())"
   ]
  },
  {
   "cell_type": "code",
   "execution_count": 4,
   "metadata": {},
   "outputs": [],
   "source": [
    "#Input the balance\n",
    "balance=pd.read_excel(\"C:/Users/Lenovo/Desktop/Demo/balance.xlsx\",header=0,index_col=0)#input balance"
   ]
  },
  {
   "cell_type": "code",
   "execution_count": 5,
   "metadata": {},
   "outputs": [],
   "source": [
    "#Input the disparity matrix（use the 1-cosine as the distance measurement）\n",
    "disparity_matrix=pd.read_excel(\"C:/Users/Lenovo/Desktop/Demo/1-cosine.xlsx\",header=0,index_col=0)#input disparity matrix"
   ]
  },
  {
   "cell_type": "code",
   "execution_count": 6,
   "metadata": {},
   "outputs": [],
   "source": [
    "#Calculate the cumulative sum of dij \n",
    "for i in range(0,data.shape[1]):\n",
    "    data_array=data.iloc[:,i].values\n",
    "    data_arrayt=np.transpose(data_array)\n",
    "    cumulative_sum=np.dot(np.dot(data_arrayt,disparity_matrix),data_array)\n",
    "    cumulative_sum_f.iloc[i,0]=cumulative_sum"
   ]
  },
  {
   "cell_type": "code",
   "execution_count": 7,
   "metadata": {},
   "outputs": [],
   "source": [
    "#Calculate the new diversity and export the result\n",
    "for j in range(0,data.shape[1]):\n",
    "    diversity=a.iloc[j,0]*balance.iloc[j,0]*cumulative_sum_f.iloc[j,0]\n",
    "    new_diversity.iloc[j,0]=diversity\n",
    "new_diversity.to_csv(\"C:/Users/Lenovo/Desktop/Demo/new_diveristy.csv\")"
   ]
  },
  {
   "cell_type": "code",
   "execution_count": null,
   "metadata": {},
   "outputs": [],
   "source": []
  }
 ],
 "metadata": {
  "kernelspec": {
   "display_name": "Python 3",
   "language": "python",
   "name": "python3"
  },
  "language_info": {
   "codemirror_mode": {
    "name": "ipython",
    "version": 3
   },
   "file_extension": ".py",
   "mimetype": "text/x-python",
   "name": "python",
   "nbconvert_exporter": "python",
   "pygments_lexer": "ipython3",
   "version": "3.8.5"
  }
 },
 "nbformat": 4,
 "nbformat_minor": 4
}
